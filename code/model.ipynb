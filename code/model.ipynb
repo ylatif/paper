{
 "cells": [
  {
   "cell_type": "markdown",
   "metadata": {},
   "source": [
    "__Models__ \n",
    "* This file trains two different models. The first one make long term prediction by taking into account how traffics ebbs and flow over the period of one year. This takes advantage of hourly vechile counts collected over several year at major intersections around Adelide CBD. It also takes into account weather (rain, temp, humidity, etc)\n",
    "* The second model predicts hourly traffic in the city using some of the above data along with bluetooth becons that end up in the city as their destination. This actually measure how many cars are parked in the city, as opposed to how many move throught the city."
   ]
  },
  {
   "cell_type": "code",
   "execution_count": 1,
   "metadata": {},
   "outputs": [],
   "source": [
    "import pandas as pd\n",
    "\n",
    "#For the learning bit \n",
    "import numpy as np\n",
    "from sklearn import linear_model\n",
    "from sklearn import preprocessing\n",
    "\n"
   ]
  },
  {
   "cell_type": "code",
   "execution_count": 2,
   "metadata": {},
   "outputs": [],
   "source": [
    "df = pd.read_csv('intersection_data.csv')\n",
    "location = df.groupby('site_no')['lat','lon'].mean()\n",
    "location.to_csv('locations.csv')\n",
    "\n",
    "df['day_of_year'] = pd.DatetimeIndex(df['rec_date']).dayofyear\n",
    "df['hour_of_day'] = pd.DatetimeIndex(df['rec_hour']).hour\n",
    "\n"
   ]
  },
  {
   "cell_type": "code",
   "execution_count": 3,
   "metadata": {},
   "outputs": [],
   "source": [
    "hourly_traffic_by_location = df.groupby(['site_no','day_of_year','hour_of_day'])['hourly_traffic']\n",
    "avg_traffic = pd.DataFrame(hourly_traffic_by_location.mean().reset_index(name = \"hourly_traffic_avg\"))\n",
    "avg_traffic.to_csv('data_clean')\n",
    "\n"
   ]
  },
  {
   "cell_type": "code",
   "execution_count": 60,
   "metadata": {},
   "outputs": [
    {
     "name": "stderr",
     "output_type": "stream",
     "text": [
      "C:\\Users\\ylatif\\Miniconda3\\lib\\site-packages\\sklearn\\preprocessing\\data.py:334: DataConversionWarning: Data with input dtype int64, float64 were all converted to float64 by MinMaxScaler.\n",
      "  return self.partial_fit(X, y)\n"
     ]
    },
    {
     "data": {
      "text/plain": [
       "SGDRegressor(alpha=0.0001, average=False, early_stopping=False, epsilon=0.1,\n",
       "       eta0=0.01, fit_intercept=True, l1_ratio=0.15,\n",
       "       learning_rate='invscaling', loss='squared_loss', max_iter=1000,\n",
       "       n_iter=None, n_iter_no_change=5, penalty='l2', power_t=0.25,\n",
       "       random_state=None, shuffle=True, tol=0.001, validation_fraction=0.1,\n",
       "       verbose=0, warm_start=False)"
      ]
     },
     "execution_count": 60,
     "metadata": {},
     "output_type": "execute_result"
    }
   ],
   "source": [
    "#y = preprocessing.scale(avg_traffic['hourly_traffic_avg'])\n",
    "\n",
    "df_w = pd.read_csv('weather_by_day_of_year.csv')\n",
    "df_all = pd.merge(avg_traffic, df_w , on = ['day_of_year'])\n",
    "\n",
    "y = np.array(df_all['hourly_traffic_avg'])\n",
    "X = df_all[['site_no', 'day_of_year','hour_of_day', 'rain','max_temp','min_temp','max_humid','min_humid','wind','solar']]\n",
    "\n",
    "df_training_data = df_all[['site_no', 'day_of_year','hour_of_day', 'rain','max_temp','min_temp','max_humid','min_humid','wind','solar','hourly_traffic_avg']]\n",
    "df_training_data.to_csv('Model_Year_training_data.csv')\n",
    "\n",
    "\n",
    "scalerX = preprocessing.MinMaxScaler()\n",
    "scalerY = preprocessing.MinMaxScaler()\n",
    "\n",
    "X = scalerX.fit_transform(X)\n",
    "y = y/np.max(y)\n",
    "\n",
    "clf = linear_model.SGDRegressor(max_iter=1000, tol=1e-3)\n",
    "clf.fit(X, y)\n"
   ]
  },
  {
   "cell_type": "code",
   "execution_count": 61,
   "metadata": {},
   "outputs": [
    {
     "name": "stdout",
     "output_type": "stream",
     "text": [
      "Test error MSE :  0.020480126183113193\n"
     ]
    }
   ],
   "source": [
    "d = clf.predict(X)-y\n",
    "print(\"Test error MSE : \", np.matmul(d.T,d)/len(y))"
   ]
  },
  {
   "cell_type": "code",
   "execution_count": 23,
   "metadata": {},
   "outputs": [
    {
     "data": {
      "text/html": [
       "<div>\n",
       "<style scoped>\n",
       "    .dataframe tbody tr th:only-of-type {\n",
       "        vertical-align: middle;\n",
       "    }\n",
       "\n",
       "    .dataframe tbody tr th {\n",
       "        vertical-align: top;\n",
       "    }\n",
       "\n",
       "    .dataframe thead th {\n",
       "        text-align: right;\n",
       "    }\n",
       "</style>\n",
       "<table border=\"1\" class=\"dataframe\">\n",
       "  <thead>\n",
       "    <tr style=\"text-align: right;\">\n",
       "      <th></th>\n",
       "      <th>Unnamed: 0</th>\n",
       "      <th>site_no</th>\n",
       "      <th>hour_of_day</th>\n",
       "      <th>DestId</th>\n",
       "      <th>index</th>\n",
       "    </tr>\n",
       "  </thead>\n",
       "  <tbody>\n",
       "    <tr>\n",
       "      <th>0</th>\n",
       "      <td>0</td>\n",
       "      <td>3001</td>\n",
       "      <td>0</td>\n",
       "      <td>3001</td>\n",
       "      <td>74</td>\n",
       "    </tr>\n",
       "    <tr>\n",
       "      <th>1</th>\n",
       "      <td>1</td>\n",
       "      <td>3001</td>\n",
       "      <td>1</td>\n",
       "      <td>3001</td>\n",
       "      <td>41</td>\n",
       "    </tr>\n",
       "    <tr>\n",
       "      <th>2</th>\n",
       "      <td>2</td>\n",
       "      <td>3001</td>\n",
       "      <td>2</td>\n",
       "      <td>3001</td>\n",
       "      <td>58</td>\n",
       "    </tr>\n",
       "    <tr>\n",
       "      <th>3</th>\n",
       "      <td>3</td>\n",
       "      <td>3001</td>\n",
       "      <td>3</td>\n",
       "      <td>3001</td>\n",
       "      <td>83</td>\n",
       "    </tr>\n",
       "    <tr>\n",
       "      <th>4</th>\n",
       "      <td>4</td>\n",
       "      <td>3001</td>\n",
       "      <td>4</td>\n",
       "      <td>3001</td>\n",
       "      <td>86</td>\n",
       "    </tr>\n",
       "  </tbody>\n",
       "</table>\n",
       "</div>"
      ],
      "text/plain": [
       "   Unnamed: 0  site_no  hour_of_day  DestId  index\n",
       "0           0     3001            0    3001     74\n",
       "1           1     3001            1    3001     41\n",
       "2           2     3001            2    3001     58\n",
       "3           3     3001            3    3001     83\n",
       "4           4     3001            4    3001     86"
      ]
     },
     "execution_count": 23,
     "metadata": {},
     "output_type": "execute_result"
    }
   ],
   "source": [
    "\n",
    "\n",
    "dfa.head()"
   ]
  },
  {
   "cell_type": "code",
   "execution_count": 13,
   "metadata": {},
   "outputs": [],
   "source": [
    "dfa = pd.read_csv('hourly_hits_by_gps_location2.csv')\n",
    "this = avg_traffic.groupby(['site_no','hour_of_day'])['hourly_traffic_avg'].mean().reset_index()\n",
    "this.to_csv('hourly_traffic_count_per_site.csv')"
   ]
  },
  {
   "cell_type": "code",
   "execution_count": 33,
   "metadata": {},
   "outputs": [],
   "source": [
    "merged = pd.merge(this, dfa, on=['site_no','hour_of_day'], how='outer')"
   ]
  },
  {
   "cell_type": "code",
   "execution_count": 52,
   "metadata": {},
   "outputs": [
    {
     "name": "stderr",
     "output_type": "stream",
     "text": [
      "C:\\Users\\ylatif\\Miniconda3\\lib\\site-packages\\sklearn\\preprocessing\\data.py:334: DataConversionWarning: Data with input dtype int64, float64 were all converted to float64 by MinMaxScaler.\n",
      "  return self.partial_fit(X, y)\n"
     ]
    },
    {
     "data": {
      "text/plain": [
       "SGDRegressor(alpha=0.0001, average=False, early_stopping=False, epsilon=0.1,\n",
       "       eta0=0.01, fit_intercept=True, l1_ratio=0.15,\n",
       "       learning_rate='invscaling', loss='squared_loss', max_iter=1000,\n",
       "       n_iter=None, n_iter_no_change=5, penalty='l2', power_t=0.25,\n",
       "       random_state=None, shuffle=True, tol=0.001, validation_fraction=0.1,\n",
       "       verbose=0, warm_start=False)"
      ]
     },
     "execution_count": 52,
     "metadata": {},
     "output_type": "execute_result"
    }
   ],
   "source": [
    "\n",
    "training_data = merged[['site_no','hour_of_day','index']]\n",
    "training_data = training_data.fillna(0)\n",
    "\n",
    "objective = merged['hourly_traffic_avg']\n",
    "\n",
    "df_training_data_hourly = merged[['site_no','hour_of_day','index','hourly_traffic_avg']]\n",
    "df_training_data_hourly.to_csv('Model_Hourly_training_data.csv')\n",
    "\n",
    "\n",
    "y = np.array(objective)\n",
    "X = training_data\n",
    "\n",
    "scalerX = preprocessing.MinMaxScaler()\n",
    "scalerY = preprocessing.MinMaxScaler()\n",
    "\n",
    "X = scalerX.fit_transform(X)\n",
    "y = y/np.max(y)\n",
    "\n",
    "clf = linear_model.SGDRegressor(max_iter=1000, tol=1e-3)\n",
    "clf.fit(X, y)\n"
   ]
  },
  {
   "cell_type": "code",
   "execution_count": 53,
   "metadata": {},
   "outputs": [
    {
     "name": "stdout",
     "output_type": "stream",
     "text": [
      "Test error MSE :  0.026355135825672612\n"
     ]
    }
   ],
   "source": [
    "d = clf.predict(X)-y\n",
    "print(\"Test error MSE : \", np.matmul(d.T,d)/len(y))"
   ]
  },
  {
   "cell_type": "code",
   "execution_count": 65,
   "metadata": {},
   "outputs": [],
   "source": []
  },
  {
   "cell_type": "code",
   "execution_count": null,
   "metadata": {},
   "outputs": [],
   "source": []
  }
 ],
 "metadata": {
  "kernelspec": {
   "display_name": "Python 3",
   "language": "python",
   "name": "python3"
  },
  "language_info": {
   "codemirror_mode": {
    "name": "ipython",
    "version": 3
   },
   "file_extension": ".py",
   "mimetype": "text/x-python",
   "name": "python",
   "nbconvert_exporter": "python",
   "pygments_lexer": "ipython3",
   "version": "3.7.3"
  }
 },
 "nbformat": 4,
 "nbformat_minor": 2
}
